{
 "cells": [
  {
   "cell_type": "markdown",
   "id": "0bc0f2e5",
   "metadata": {},
   "source": [
    "# Data Analysis and Visualization of Time to Target with Tremor Identification\n",
    "\n",
    "This code was developed to analyze data and generate figures for \"Evaluating Mouse Control and Usability Patterns Across Tremor and Non-Tremor Populations\""
   ]
  },
  {
   "cell_type": "markdown",
   "id": "5b11a599",
   "metadata": {},
   "source": [
    "### Loading necessary libraries"
   ]
  },
  {
   "cell_type": "code",
   "execution_count": null,
   "id": "ce643f0e",
   "metadata": {},
   "outputs": [],
   "source": [
    "import os\n",
    "import numpy as np\n",
    "import pandas as pd\n",
    "import matplotlib.pyplot as plt\n",
    "import seaborn as sns"
   ]
  },
  {
   "cell_type": "markdown",
   "id": "630c6492",
   "metadata": {},
   "source": [
    "## Combining Mouse Time to Target and Tremor Data"
   ]
  },
  {
   "cell_type": "code",
   "execution_count": null,
   "id": "fe79077c",
   "metadata": {},
   "outputs": [],
   "source": [
    "# XY cursor targets for tasks\n",
    "targets = pd.read_csv(\"./targets.csv\")\n",
    "targets = targets[['X', 'Y']]\n",
    "\n",
    "# tremor status of participants\n",
    "tremors = pd.read_csv('../survey analysis/survey_results_text.csv', skiprows=1, header=0)\n",
    "tremors = tremors[tremors['participant_ID']!='SURVEY TEST']\n",
    "tremors = tremors[['participant_ID', 'tremor_level']]"
   ]
  },
  {
   "cell_type": "code",
   "execution_count": null,
   "id": "73526286",
   "metadata": {},
   "outputs": [],
   "source": [
    "i = 1\n",
    "cursor = pd.read_csv(\"./data/positions_\" + str(i) + \".txt\", sep='\\t', header=None, names=['time', 'X', 'Y'])\n",
    "clicks = cursor[cursor['time'] == 'Mouse Click'].index\n",
    "clicks = cursor.loc[clicks-1]\n",
    "clicks['time'] = pd.to_numeric(clicks['time'])\n",
    "clicks['time_to_target'] = clicks['time'].diff()\n",
    "clicks['participant_ID'] = 'PT' + str(i).zfill(2)"
   ]
  },
  {
   "cell_type": "code",
   "execution_count": null,
   "id": "c1ea7aca",
   "metadata": {},
   "outputs": [],
   "source": [
    "# Create dataframe with distance of mouse click from target in pixels\n",
    "time_to_target = pd.DataFrame({'participant_ID': [], 'time_to_target': []})\n",
    "\n",
    "for i in range(50):\n",
    "    if os.path.exists(\"./data/positions_\" + str(i) + \".txt\"):\n",
    "\n",
    "        # Identify Times of Clicks\n",
    "        cursor = pd.read_csv(\"./data/positions_\" + str(i) + \".txt\", sep='\\t', header=None, names=['time', 'X', 'Y'])\n",
    "        clicks = cursor[cursor['time'] == 'Mouse Click'].index\n",
    "        clicks = cursor.loc[clicks-1]\n",
    "        clicks['time'] = pd.to_numeric(clicks['time'])\n",
    "\n",
    "        clicks['time_to_target'] = clicks['time'].diff()       \n",
    "        clicks['participant_ID'] = 'PT' + str(i).zfill(2)\n",
    "\n",
    "        df = clicks[['participant_ID', 'time_to_target']]\n",
    "        time_to_target = pd.concat([time_to_target, df], ignore_index=True)\n",
    "\n",
    "# Merge the data\n",
    "task_time = pd.merge(tremors, time_to_target, on='participant_ID')\n",
    "task_time = task_time.dropna()"
   ]
  },
  {
   "cell_type": "markdown",
   "id": "905553cd",
   "metadata": {},
   "source": [
    "## Mixed-Effects Model of Task Click Accuracy"
   ]
  },
  {
   "cell_type": "code",
   "execution_count": null,
   "id": "5c8b43a3",
   "metadata": {},
   "outputs": [],
   "source": [
    "# Fit a linear mixed-effects model\n",
    "import statsmodels.api as sm\n",
    "from statsmodels.regression.mixed_linear_model import MixedLM\n",
    "import statsmodels.formula.api as smf\n",
    "\n",
    "model = smf.mixedlm(\"time_to_target ~ C(tremor_level)\", data=task_time, groups=task_time[\"participant_ID\"])\n",
    "result = model.fit()\n",
    "print(result.summary())"
   ]
  },
  {
   "cell_type": "code",
   "execution_count": null,
   "id": "7f15b240",
   "metadata": {},
   "outputs": [],
   "source": [
    "plt.figure(figsize=(3.5,2.5))\n",
    "\n",
    "sns.boxplot(data=task_time, x='tremor_level', y='time_to_target', color='grey')\n",
    "plt.ylim([0, 80])\n",
    "plt.title('Time to Target by Tremor Level', fontsize=12)\n",
    "plt.xlabel('Tremor Occurance')\n",
    "plt.ylabel('Time to Click (sec)')\n",
    "plt.tight_layout()\n",
    "plt.savefig('time_to_target.png', dpi=300, bbox_inches='tight')"
   ]
  },
  {
   "cell_type": "markdown",
   "id": "5ff5579c",
   "metadata": {},
   "source": [
    "## Mean Click Accuracy per Participant"
   ]
  },
  {
   "cell_type": "markdown",
   "id": "b368605b",
   "metadata": {},
   "source": [
    "### Combine Data Into One DataFrame"
   ]
  },
  {
   "cell_type": "code",
   "execution_count": null,
   "id": "29caed96",
   "metadata": {},
   "outputs": [],
   "source": [
    "mean_time = task_time.groupby(['participant_ID', 'tremor_level'], as_index=False)['time_to_target'].mean()"
   ]
  },
  {
   "cell_type": "code",
   "execution_count": null,
   "id": "3a926773",
   "metadata": {},
   "outputs": [],
   "source": [
    "label_map = {\n",
    "    'No': 'Never',\n",
    "    'Sometimes': 'Sometimes',\n",
    "    'Yes': 'Always'\n",
    "}\n",
    "\n",
    "plt.figure(figsize=(3.5,2.5))\n",
    "\n",
    "mean_time['tremor_label'] = mean_time['tremor_level'].map(label_map)\n",
    "\n",
    "\n",
    "sns.boxplot(data=mean_time, x='tremor_label', y='time_to_target', color='grey')\n",
    "plt.ylim([0, 80])\n",
    "plt.title('Mean Time to Click', fontsize=12)\n",
    "plt.xlabel('Tremor Occurance')\n",
    "plt.ylabel('Time to Target (sec)')\n",
    "plt.tight_layout()\n",
    "plt.savefig('time_to_target.png', dpi=300, bbox_inches='tight')"
   ]
  },
  {
   "cell_type": "code",
   "execution_count": null,
   "id": "b9cfefd4",
   "metadata": {},
   "outputs": [],
   "source": [
    "import statsmodels.api as sm\n",
    "from statsmodels.formula.api import ols\n",
    "\n",
    "# One-way ANOVA: Score by tremor_level\n",
    "anova_model = ols('time_to_target ~ C(tremor_level)', data=mean_time).fit()\n",
    "anova_table = sm.stats.anova_lm(anova_model, typ=2)\n",
    "print(anova_table)\n"
   ]
  },
  {
   "cell_type": "code",
   "execution_count": null,
   "id": "4ad11139",
   "metadata": {},
   "outputs": [],
   "source": [
    "from statsmodels.stats.multicomp import pairwise_tukeyhsd\n",
    "\n",
    "# Run Tukey’s test\n",
    "tukey = pairwise_tukeyhsd(endog=task_time['time_to_target'],\n",
    "                          groups=task_time['tremor_level'],\n",
    "                          alpha=0.05)\n",
    "\n",
    "# Print summary table\n",
    "print(tukey.summary())"
   ]
  }
 ],
 "metadata": {
  "kernelspec": {
   "display_name": "Python 3",
   "language": "python",
   "name": "python3"
  },
  "language_info": {
   "codemirror_mode": {
    "name": "ipython",
    "version": 3
   },
   "file_extension": ".py",
   "mimetype": "text/x-python",
   "name": "python",
   "nbconvert_exporter": "python",
   "pygments_lexer": "ipython3",
   "version": "3.12.4"
  }
 },
 "nbformat": 4,
 "nbformat_minor": 5
}
