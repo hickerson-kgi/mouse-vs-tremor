{
 "cells": [
  {
   "cell_type": "markdown",
   "id": "0bc0f2e5",
   "metadata": {},
   "source": [
    "# Data Analysis and Visualization of Computer Mouse Movement\n",
    "\n",
    "This code was developed to analyze data and generate figures for \"Evaluating Mouse Control and Usability Patterns Across Tremor and Non-Tremor Populations\""
   ]
  },
  {
   "cell_type": "markdown",
   "id": "5b11a599",
   "metadata": {},
   "source": [
    "### Loading necessary libraries"
   ]
  },
  {
   "cell_type": "code",
   "execution_count": null,
   "id": "ce643f0e",
   "metadata": {},
   "outputs": [],
   "source": [
    "import pandas as pd\n",
    "import matplotlib.pyplot as plt\n",
    "import numpy as np\n",
    "import matplotlib.pyplot as plt"
   ]
  },
  {
   "cell_type": "markdown",
   "id": "7f2c5406",
   "metadata": {},
   "source": [
    "### Cursor Data for Exemplar Participants"
   ]
  },
  {
   "cell_type": "code",
   "execution_count": null,
   "id": "a0c4bcd1",
   "metadata": {},
   "outputs": [],
   "source": [
    "# participant reporting tremors always\n",
    "A = pd.read_csv(\"./data/positions_44.txt\", sep='\\t', header=None, names=['time', 'X', 'Y'])\n",
    "# participant reporting tremors sometimes\n",
    "S = pd.read_csv(\"./data/positions_41.txt\", sep='\\t', header=None, names=['time', 'X', 'Y'])\n",
    "# participant reporting not having tremors\n",
    "N = pd.read_csv(\"./data/positions_1.txt\", sep='\\t', header=None, names=['time', 'X', 'Y'])\n",
    "\n",
    "# Find Position of Clicks\n",
    "A_clicks = A[A['time'] == 'Mouse Click'].index\n",
    "S_clicks = S[S['time'] == 'Mouse Click'].index\n",
    "N_clicks = N[N['time'] == 'Mouse Click'].index\n",
    "\n",
    "A_clicks = A.loc[A_clicks-1]\n",
    "S_clicks = S.loc[S_clicks-1]\n",
    "N_clicks = N.loc[N_clicks-1]\n",
    "\n",
    "# Plot\n",
    "fig = plt.figure(figsize=(3.5, 7))\n",
    "fig = plt.figure(figsize=(7.2,  2.2))\n",
    "fig.suptitle('Position of the Cursor During Movement and Clicks while completing Screen Tasks\\nwith Different Tremor Levels', fontsize=12) \n",
    "\n",
    "# Time Domain\n",
    "ax = plt.subplot(1, 3, 1)\n",
    "plt.plot(N['X'], N['Y'], linewidth=0.5, color='black')\n",
    "plt.scatter(N_clicks['X'], N_clicks['Y'],\n",
    "            color='orange',       # solid fill\n",
    "            edgecolors='red', # optional border\n",
    "            s=80,               # marker size\n",
    "            marker='o',         # filled circle\n",
    "            zorder=2)          # fully opaque\n",
    "\n",
    "plt.title('Participant 1 - Never', fontsize=12)\n",
    "plt.axis('off')\n",
    "ax.set_aspect('equal')\n",
    "ax.invert_yaxis()\n",
    "\n",
    "ax = plt.subplot(1, 3, 2)\n",
    "plt.plot(S['X'],S['Y'], linewidth=0.5, color='black')\n",
    "plt.scatter(S_clicks['X'],S_clicks['Y'],\n",
    "            color='orange',       # solid fill\n",
    "            edgecolors='red', # optional border\n",
    "            s=80,               # marker size\n",
    "            marker='o',         # filled circle\n",
    "            zorder=2)          # fully opaque\n",
    "\n",
    "plt.title(\"Participant 42 - Sometimes\", fontsize=12)\n",
    "plt.axis('off')\n",
    "ax.set_aspect('equal')\n",
    "ax.invert_yaxis()\n",
    "\n",
    "ax = plt.subplot(1, 3, 3)\n",
    "plt.plot(A['X'], A['Y'], linewidth=0.5, color='black')\n",
    "plt.scatter(A_clicks['X'], A_clicks['Y'],\n",
    "            color='orange',       # solid fill\n",
    "            edgecolors='red', # optional border\n",
    "            s=80,               # marker size\n",
    "            marker='o',         # filled circle\n",
    "            zorder=2)          # fully opaque\n",
    "\n",
    "plt.title(\"Participant 44 - Always\", fontsize=12)\n",
    "plt.axis('off')\n",
    "ax.set_aspect('equal')\n",
    "ax.invert_yaxis()\n",
    "\n",
    "\n",
    "plt.tight_layout()\n",
    "plt.savefig('cursor.png', dpi=300, bbox_inches='tight')"
   ]
  },
  {
   "cell_type": "markdown",
   "id": "c6d84573",
   "metadata": {},
   "source": [
    "## Cursor Data for Selected Participant "
   ]
  },
  {
   "cell_type": "code",
   "execution_count": null,
   "id": "2f915895",
   "metadata": {},
   "outputs": [],
   "source": [
    "participant = '41'\n",
    "\n",
    "# Load Cursor Data\n",
    "cursor = pd.read_csv(\"./data/positions_\" + participant + \".txt\", sep='\\t', header=None, names=['time', 'X', 'Y'])\n",
    "# Identify Times of Clicks\n",
    "clicks = cursor[cursor['time'] == 'Mouse Click'].index\n",
    "clicks = cursor.loc[clicks-1]\n",
    "# Remove non-numerical rows (i.e. ones that state 'Mouse Click')\n",
    "cursor.dropna(inplace=True)\n",
    "# Change time to a numeric\n",
    "cursor['time'] = pd.to_numeric(cursor['time'])\n",
    "# Offset time by first click so that the IMU and Cursor data are aligned\n",
    "cursor['time'] = cursor['time'] - float(clicks.iloc[0]['time'])\n",
    "\n",
    "# Plot\n",
    "fig = plt.figure(figsize=(6.5, 5))\n",
    "ax = plt.subplot(1, 1, 1)\n",
    "\n",
    "plt.plot(cursor['X'], cursor['Y'], linewidth=0.5, color='black')\n",
    "plt.scatter(clicks['X'], clicks['Y'],\n",
    "            color='orange',       # solid fill\n",
    "            edgecolors='red', # optional border\n",
    "            s=80,               # marker size\n",
    "            marker='o',         # filled circle\n",
    "            zorder=2)          # fully opaque\n",
    "ax.invert_yaxis()\n",
    "ax.set_aspect('equal')\n",
    "plt.title('XY position of Cursor for Participant ' + str(participant))\n",
    "plt.axis('off')\n",
    " "
   ]
  }
 ],
 "metadata": {
  "kernelspec": {
   "display_name": "Python 3",
   "language": "python",
   "name": "python3"
  },
  "language_info": {
   "codemirror_mode": {
    "name": "ipython",
    "version": 3
   },
   "file_extension": ".py",
   "mimetype": "text/x-python",
   "name": "python",
   "nbconvert_exporter": "python",
   "pygments_lexer": "ipython3",
   "version": "3.12.4"
  }
 },
 "nbformat": 4,
 "nbformat_minor": 5
}
