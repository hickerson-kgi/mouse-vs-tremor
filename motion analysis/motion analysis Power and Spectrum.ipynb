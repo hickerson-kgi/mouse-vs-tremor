{
 "cells": [
  {
   "cell_type": "markdown",
   "id": "0bc0f2e5",
   "metadata": {},
   "source": [
    "# Data Analysis and Visualization of Time to Target with Tremor Identification\n",
    "\n",
    "This code was developed to analyze data and generate figures for \"Evaluating Mouse Control and Usability Patterns Across Tremor and Non-Tremor Populations\""
   ]
  },
  {
   "cell_type": "markdown",
   "id": "5b11a599",
   "metadata": {},
   "source": [
    "### Loading necessary libraries"
   ]
  },
  {
   "cell_type": "code",
   "execution_count": null,
   "id": "ce643f0e",
   "metadata": {},
   "outputs": [],
   "source": [
    "import os\n",
    "import numpy as np\n",
    "import pandas as pd\n",
    "import matplotlib.pyplot as plt\n",
    "import seaborn as sns"
   ]
  },
  {
   "cell_type": "markdown",
   "id": "7f79c774",
   "metadata": {},
   "source": [
    "### Processing Functions"
   ]
  },
  {
   "cell_type": "code",
   "execution_count": null,
   "id": "e1395197",
   "metadata": {},
   "outputs": [],
   "source": [
    "from scipy.signal import welch\n",
    "from scipy.signal import detrend\n",
    "from scipy.interpolate import interp1d\n",
    "from scipy.signal import welch\n",
    "\n",
    "# Estimate power spectral density using Welch’s method\n",
    "# sampling rate can have minor variation\n",
    "def computePSD(t, sig):\n",
    "\n",
    "    # remove any offset\n",
    "    sig = detrend(sig)\n",
    "\n",
    "    # compute the average sampling frequency\n",
    "    fs = len(t)/(t[-1]-t[0])\n",
    "    fs = 1/0.015\n",
    "\n",
    "    # Interpolate time and signal to estimate constant sampling rate\n",
    "    interp_func = interp1d(t, sig, kind='linear', fill_value='extrapolate')\n",
    "    sig = interp_func(np.arange(t[0], t[-1], 1/fs))\n",
    "\n",
    "    # compute the power spectral density\n",
    "    f, PSD = welch(sig, fs)\n",
    "    \n",
    "    return f, PSD"
   ]
  },
  {
   "cell_type": "markdown",
   "id": "14644c7b",
   "metadata": {},
   "source": [
    "### Sample Data Set"
   ]
  },
  {
   "cell_type": "code",
   "execution_count": null,
   "id": "3a6c76b7",
   "metadata": {},
   "outputs": [],
   "source": [
    "# participant reporting tremors always\n",
    "A = pd.read_csv(\"./data/TestTaker44.csv\")\n",
    "A.columns = A.columns.str.strip()\n",
    "# participant reporting tremors sometimes\n",
    "S = pd.read_csv(\"./data/TestTaker42.csv\")\n",
    "S.columns = S.columns.str.strip()\n",
    "# participant reporting not having tremors\n",
    "N = pd.read_csv(\"./data/TestTaker1.csv\")\n",
    "N.columns =N.columns.str.strip()\n",
    "\n",
    "\n",
    "tA = A[\"Timestamp\"].values\n",
    "ZA = A[\"GyroZ\"].values\n",
    "\n",
    "tS = S[\"Timestamp\"].values\n",
    "ZS= S[\"GyroZ\"].values\n",
    "\n",
    "tN = N[\"Timestamp\"].values\n",
    "ZN = N[\"GyroZ\"].values\n",
    "\n",
    "fA, PSDA = computePSD(tA, ZA)\n",
    "fS, PSDS = computePSD(tS, ZS)\n",
    "fN, PSDN = computePSD(tN, ZN)\n",
    "\n",
    "# Plot the PSD\n",
    "plt.figure(figsize=(3.5,2.5))\n",
    "\n",
    "plt.plot(fA, PSDA, color='0', linewidth=.8, linestyle='-')\n",
    "plt.plot(fS, PSDS, color='0', linewidth=.8, linestyle='-.')\n",
    "plt.plot(fN, PSDN, color='0', linewidth=.8, linestyle=':')\n",
    "# plt.legend(['Never', 'Sometimes', 'Always'])\n",
    "plt.legend(\n",
    "    ['Always', 'Sometimes', 'Never'],\n",
    "    title='Tremor Occurance',\n",
    "    loc='upper right',\n",
    "    borderaxespad=0,\n",
    "    frameon=False\n",
    ")\n",
    "plt.xlabel('Frequency (Hz)')\n",
    "plt.ylabel(r'Power ($\\omega^2$/Hz)')\n",
    "plt.title('Power Spectral Density of\\nAngular Velocity of Mouse', fontsize=12)\n",
    "plt.tight_layout()\n",
    "plt.savefig('PSD.png', dpi=300, bbox_inches='tight')"
   ]
  },
  {
   "cell_type": "markdown",
   "id": "630c6492",
   "metadata": {},
   "source": [
    "## Calculate Spectrums"
   ]
  },
  {
   "cell_type": "code",
   "execution_count": null,
   "id": "fe79077c",
   "metadata": {},
   "outputs": [],
   "source": [
    "# tremor status of participants\n",
    "tremors = pd.read_csv('../survey analysis/survey_results_text.csv', skiprows=1, header=0)\n",
    "tremors = tremors[tremors['participant_ID']!='SURVEY TEST']\n",
    "tremors = tremors[['participant_ID', 'tremor_level']]"
   ]
  },
  {
   "cell_type": "code",
   "execution_count": null,
   "id": "c1ea7aca",
   "metadata": {},
   "outputs": [],
   "source": [
    "# Create dataframe with spectrum information\n",
    "spectrum_power = pd.DataFrame({'participant_ID': [], 'power': []})\n",
    "\n",
    "for i in range(50):\n",
    "    if os.path.exists(\"./data/TestTaker\" + str(i) + \".csv\"):\n",
    "\n",
    "        # Load the data\n",
    "        data = pd.read_csv((\"./data/TestTaker\" + str(i) + \".csv\"))\n",
    "        data.columns = data.columns.str.strip()\n",
    "\n",
    "        t = data[\"Timestamp\"].values\n",
    "        Z = data[\"GyroZ\"].values\n",
    "\n",
    "        # Calculate the normalized power spectral density\n",
    "        f, PSD = computePSD(t, Z)\n",
    "\n",
    "        # Identify [something]\n",
    "        row = pd.DataFrame({'participant_ID': ['PT' + str(i).zfill(2)], 'power': [np.trapezoid(PSD, f)]})\n",
    "       # print(row)\n",
    "        spectrum_power = pd.concat([spectrum_power, row], ignore_index=True)\n",
    "\n",
    "# Merge the data\n",
    "participant_power = pd.merge(tremors, spectrum_power, on='participant_ID')"
   ]
  },
  {
   "cell_type": "markdown",
   "id": "5ff5579c",
   "metadata": {},
   "source": [
    "## Spectrum Power per Participant"
   ]
  },
  {
   "cell_type": "markdown",
   "id": "b368605b",
   "metadata": {},
   "source": [
    "### Combine Data Into One DataFrame"
   ]
  },
  {
   "cell_type": "code",
   "execution_count": null,
   "id": "3a926773",
   "metadata": {},
   "outputs": [],
   "source": [
    "label_map = {\n",
    "    'No': 'Never',\n",
    "    'Sometimes': 'Sometimes',\n",
    "    'Yes': 'Always'\n",
    "}\n",
    "\n",
    "# Create a new column with mapped labels\n",
    "participant_power['tremor_label'] = participant_power['tremor_level'].map(label_map)\n",
    "\n",
    "plt.figure(figsize=(3.5,2.5))\n",
    "\n",
    "sns.boxplot(data=participant_power, x='tremor_label', y='power', color='grey')\n",
    "plt.title('Rotational Power\\nImparted by Participants', fontsize=12)\n",
    "plt.xlabel('Tremor Occurance')\n",
    "plt.ylabel(r'Power ($\\omega^2$/Hz)')\n",
    "plt.tight_layout()\n",
    "plt.savefig('power.png', dpi=300, bbox_inches='tight')\n"
   ]
  },
  {
   "cell_type": "code",
   "execution_count": null,
   "id": "b9cfefd4",
   "metadata": {},
   "outputs": [],
   "source": [
    "import statsmodels.api as sm\n",
    "from statsmodels.formula.api import ols\n",
    "\n",
    "# One-way ANOVA: Score by tremor_level\n",
    "anova_model = ols('power ~ C(tremor_level)', data=participant_power).fit()\n",
    "anova_table = sm.stats.anova_lm(anova_model, typ=2)\n",
    "print(anova_table)\n"
   ]
  },
  {
   "cell_type": "code",
   "execution_count": null,
   "id": "4ad11139",
   "metadata": {},
   "outputs": [],
   "source": [
    "from statsmodels.stats.multicomp import pairwise_tukeyhsd\n",
    "\n",
    "# Run Tukey’s test\n",
    "tukey = pairwise_tukeyhsd(endog=participant_power['power'],\n",
    "                          groups=participant_power['tremor_level'],\n",
    "                          alpha=0.05)\n",
    "\n",
    "# Print summary table\n",
    "print(tukey.summary())"
   ]
  }
 ],
 "metadata": {
  "kernelspec": {
   "display_name": "Python 3",
   "language": "python",
   "name": "python3"
  },
  "language_info": {
   "codemirror_mode": {
    "name": "ipython",
    "version": 3
   },
   "file_extension": ".py",
   "mimetype": "text/x-python",
   "name": "python",
   "nbconvert_exporter": "python",
   "pygments_lexer": "ipython3",
   "version": "3.12.4"
  }
 },
 "nbformat": 4,
 "nbformat_minor": 5
}
